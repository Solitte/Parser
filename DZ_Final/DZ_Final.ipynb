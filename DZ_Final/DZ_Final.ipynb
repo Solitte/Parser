{
 "cells": [
  {
   "cell_type": "code",
   "execution_count": 181,
   "outputs": [],
   "source": [
    "import pandas as pd\n",
    "import numpy as np\n",
    "import warnings\n",
    "warnings.filterwarnings('ignore')"
   ],
   "metadata": {
    "collapsed": false,
    "pycharm": {
     "name": "#%%\n"
    }
   }
  },
  {
   "cell_type": "code",
   "execution_count": 182,
   "outputs": [],
   "source": [
    "\n",
    "df_init = pd.read_csv('Amazon Fine Food Reviews.csv') #Датасет для анализа отзывов\n",
    "df_init.drop_duplicates()\n",
    "df_rules = df_init.head(8000)\n",
    "df_manual = pd.read_csv('Amazon Fine Food Reviews Manual.csv') #df_init.tail(2000)"
   ],
   "metadata": {
    "collapsed": false,
    "pycharm": {
     "name": "#%%\n"
    }
   }
  },
  {
   "cell_type": "code",
   "execution_count": 183,
   "outputs": [
    {
     "data": {
      "text/plain": "   Id   ProductId          UserId                      ProfileName  \\\n0   1  B001E4KFG0  A3SGXH7AUHU8GW                       delmartian   \n1   2  B00813GRG4  A1D87F6ZCVE5NK                           dll pa   \n2   3  B000LQOCH0   ABXLMWJIXXAIN  Natalia Corres \"Natalia Corres\"   \n3   4  B000UA0QIQ  A395BORC6FGVXV                             Karl   \n4   5  B006K2ZZ7K  A1UQRSCLF8GW1T    Michael D. Bigham \"M. Wassir\"   \n\n   HelpfulnessNumerator  HelpfulnessDenominator  Score        Time  \\\n0                     1                       1      5  1303862400   \n1                     0                       0      1  1346976000   \n2                     1                       1      4  1219017600   \n3                     3                       3      2  1307923200   \n4                     0                       0      5  1350777600   \n\n                 Summary                                               Text  \n0  Good Quality Dog Food  I have bought several of the Vitality canned d...  \n1      Not as Advertised  Product arrived labeled as Jumbo Salted Peanut...  \n2  \"Delight\" says it all  This is a confection that has been around a fe...  \n3         Cough Medicine  If you are looking for the secret ingredient i...  \n4            Great taffy  Great taffy at a great price.  There was a wid...  ",
      "text/html": "<div>\n<style scoped>\n    .dataframe tbody tr th:only-of-type {\n        vertical-align: middle;\n    }\n\n    .dataframe tbody tr th {\n        vertical-align: top;\n    }\n\n    .dataframe thead th {\n        text-align: right;\n    }\n</style>\n<table border=\"1\" class=\"dataframe\">\n  <thead>\n    <tr style=\"text-align: right;\">\n      <th></th>\n      <th>Id</th>\n      <th>ProductId</th>\n      <th>UserId</th>\n      <th>ProfileName</th>\n      <th>HelpfulnessNumerator</th>\n      <th>HelpfulnessDenominator</th>\n      <th>Score</th>\n      <th>Time</th>\n      <th>Summary</th>\n      <th>Text</th>\n    </tr>\n  </thead>\n  <tbody>\n    <tr>\n      <th>0</th>\n      <td>1</td>\n      <td>B001E4KFG0</td>\n      <td>A3SGXH7AUHU8GW</td>\n      <td>delmartian</td>\n      <td>1</td>\n      <td>1</td>\n      <td>5</td>\n      <td>1303862400</td>\n      <td>Good Quality Dog Food</td>\n      <td>I have bought several of the Vitality canned d...</td>\n    </tr>\n    <tr>\n      <th>1</th>\n      <td>2</td>\n      <td>B00813GRG4</td>\n      <td>A1D87F6ZCVE5NK</td>\n      <td>dll pa</td>\n      <td>0</td>\n      <td>0</td>\n      <td>1</td>\n      <td>1346976000</td>\n      <td>Not as Advertised</td>\n      <td>Product arrived labeled as Jumbo Salted Peanut...</td>\n    </tr>\n    <tr>\n      <th>2</th>\n      <td>3</td>\n      <td>B000LQOCH0</td>\n      <td>ABXLMWJIXXAIN</td>\n      <td>Natalia Corres \"Natalia Corres\"</td>\n      <td>1</td>\n      <td>1</td>\n      <td>4</td>\n      <td>1219017600</td>\n      <td>\"Delight\" says it all</td>\n      <td>This is a confection that has been around a fe...</td>\n    </tr>\n    <tr>\n      <th>3</th>\n      <td>4</td>\n      <td>B000UA0QIQ</td>\n      <td>A395BORC6FGVXV</td>\n      <td>Karl</td>\n      <td>3</td>\n      <td>3</td>\n      <td>2</td>\n      <td>1307923200</td>\n      <td>Cough Medicine</td>\n      <td>If you are looking for the secret ingredient i...</td>\n    </tr>\n    <tr>\n      <th>4</th>\n      <td>5</td>\n      <td>B006K2ZZ7K</td>\n      <td>A1UQRSCLF8GW1T</td>\n      <td>Michael D. Bigham \"M. Wassir\"</td>\n      <td>0</td>\n      <td>0</td>\n      <td>5</td>\n      <td>1350777600</td>\n      <td>Great taffy</td>\n      <td>Great taffy at a great price.  There was a wid...</td>\n    </tr>\n  </tbody>\n</table>\n</div>"
     },
     "execution_count": 183,
     "metadata": {},
     "output_type": "execute_result"
    }
   ],
   "source": [
    "df_rules.head()"
   ],
   "metadata": {
    "collapsed": false,
    "pycharm": {
     "name": "#%%\n"
    }
   }
  },
  {
   "cell_type": "code",
   "execution_count": 184,
   "outputs": [
    {
     "name": "stdout",
     "output_type": "stream",
     "text": [
      "<class 'pandas.core.frame.DataFrame'>\n",
      "RangeIndex: 8000 entries, 0 to 7999\n",
      "Data columns (total 10 columns):\n",
      " #   Column                  Non-Null Count  Dtype \n",
      "---  ------                  --------------  ----- \n",
      " 0   Id                      8000 non-null   int64 \n",
      " 1   ProductId               8000 non-null   object\n",
      " 2   UserId                  8000 non-null   object\n",
      " 3   ProfileName             8000 non-null   object\n",
      " 4   HelpfulnessNumerator    8000 non-null   int64 \n",
      " 5   HelpfulnessDenominator  8000 non-null   int64 \n",
      " 6   Score                   8000 non-null   int64 \n",
      " 7   Time                    8000 non-null   int64 \n",
      " 8   Summary                 8000 non-null   object\n",
      " 9   Text                    8000 non-null   object\n",
      "dtypes: int64(5), object(5)\n",
      "memory usage: 625.1+ KB\n"
     ]
    }
   ],
   "source": [
    "df_rules.info()"
   ],
   "metadata": {
    "collapsed": false,
    "pycharm": {
     "name": "#%%\n"
    }
   }
  },
  {
   "cell_type": "code",
   "execution_count": 185,
   "outputs": [
    {
     "name": "stdout",
     "output_type": "stream",
     "text": [
      "<class 'pandas.core.frame.DataFrame'>\n",
      "RangeIndex: 2000 entries, 0 to 1999\n",
      "Data columns (total 11 columns):\n",
      " #   Column                  Non-Null Count  Dtype \n",
      "---  ------                  --------------  ----- \n",
      " 0   Id                      2000 non-null   int64 \n",
      " 1   ProductId               2000 non-null   object\n",
      " 2   UserId                  2000 non-null   object\n",
      " 3   ProfileName             2000 non-null   object\n",
      " 4   HelpfulnessNumerator    2000 non-null   int64 \n",
      " 5   HelpfulnessDenominator  2000 non-null   int64 \n",
      " 6   Score                   2000 non-null   int64 \n",
      " 7   Time                    2000 non-null   int64 \n",
      " 8   Summary                 2000 non-null   object\n",
      " 9   Text                    2000 non-null   object\n",
      " 10  sentiment               2000 non-null   object\n",
      "dtypes: int64(5), object(6)\n",
      "memory usage: 172.0+ KB\n"
     ]
    }
   ],
   "source": [
    "df_manual.info()"
   ],
   "metadata": {
    "collapsed": false,
    "pycharm": {
     "name": "#%%\n"
    }
   }
  },
  {
   "cell_type": "code",
   "execution_count": 186,
   "outputs": [],
   "source": [
    "from textblob import TextBlob"
   ],
   "metadata": {
    "collapsed": false,
    "pycharm": {
     "name": "#%%\n"
    }
   }
  },
  {
   "cell_type": "code",
   "execution_count": 187,
   "outputs": [],
   "source": [
    "def get_sentiment(text): # Определение функции для получения полярности настроения твита\n",
    "    blob = TextBlob(text)\n",
    "    return blob.sentiment.polarity\n",
    "\n",
    "def get_sentiment_label(score): # Определение функции для присвоения метки настроения на основе оценки полярности настроения\n",
    "    if score > 0:\n",
    "        return 'positive'\n",
    "    elif score < 0:\n",
    "        return 'negative'\n",
    "    else:\n",
    "        return 'neutral'"
   ],
   "metadata": {
    "collapsed": false,
    "pycharm": {
     "name": "#%%\n"
    }
   }
  },
  {
   "cell_type": "code",
   "execution_count": 188,
   "outputs": [
    {
     "data": {
      "text/plain": "   Id   ProductId          UserId                      ProfileName  \\\n0   1  B001E4KFG0  A3SGXH7AUHU8GW                       delmartian   \n1   2  B00813GRG4  A1D87F6ZCVE5NK                           dll pa   \n2   3  B000LQOCH0   ABXLMWJIXXAIN  Natalia Corres \"Natalia Corres\"   \n3   4  B000UA0QIQ  A395BORC6FGVXV                             Karl   \n4   5  B006K2ZZ7K  A1UQRSCLF8GW1T    Michael D. Bigham \"M. Wassir\"   \n\n   HelpfulnessNumerator  HelpfulnessDenominator  Score        Time  \\\n0                     1                       1      5  1303862400   \n1                     0                       0      1  1346976000   \n2                     1                       1      4  1219017600   \n3                     3                       3      2  1307923200   \n4                     0                       0      5  1350777600   \n\n                 Summary                                               Text  \\\n0  Good Quality Dog Food  I have bought several of the Vitality canned d...   \n1      Not as Advertised  Product arrived labeled as Jumbo Salted Peanut...   \n2  \"Delight\" says it all  This is a confection that has been around a fe...   \n3         Cough Medicine  If you are looking for the secret ingredient i...   \n4            Great taffy  Great taffy at a great price.  There was a wid...   \n\n  sentiment  \n0  positive  \n1  negative  \n2  positive  \n3  positive  \n4  positive  ",
      "text/html": "<div>\n<style scoped>\n    .dataframe tbody tr th:only-of-type {\n        vertical-align: middle;\n    }\n\n    .dataframe tbody tr th {\n        vertical-align: top;\n    }\n\n    .dataframe thead th {\n        text-align: right;\n    }\n</style>\n<table border=\"1\" class=\"dataframe\">\n  <thead>\n    <tr style=\"text-align: right;\">\n      <th></th>\n      <th>Id</th>\n      <th>ProductId</th>\n      <th>UserId</th>\n      <th>ProfileName</th>\n      <th>HelpfulnessNumerator</th>\n      <th>HelpfulnessDenominator</th>\n      <th>Score</th>\n      <th>Time</th>\n      <th>Summary</th>\n      <th>Text</th>\n      <th>sentiment</th>\n    </tr>\n  </thead>\n  <tbody>\n    <tr>\n      <th>0</th>\n      <td>1</td>\n      <td>B001E4KFG0</td>\n      <td>A3SGXH7AUHU8GW</td>\n      <td>delmartian</td>\n      <td>1</td>\n      <td>1</td>\n      <td>5</td>\n      <td>1303862400</td>\n      <td>Good Quality Dog Food</td>\n      <td>I have bought several of the Vitality canned d...</td>\n      <td>positive</td>\n    </tr>\n    <tr>\n      <th>1</th>\n      <td>2</td>\n      <td>B00813GRG4</td>\n      <td>A1D87F6ZCVE5NK</td>\n      <td>dll pa</td>\n      <td>0</td>\n      <td>0</td>\n      <td>1</td>\n      <td>1346976000</td>\n      <td>Not as Advertised</td>\n      <td>Product arrived labeled as Jumbo Salted Peanut...</td>\n      <td>negative</td>\n    </tr>\n    <tr>\n      <th>2</th>\n      <td>3</td>\n      <td>B000LQOCH0</td>\n      <td>ABXLMWJIXXAIN</td>\n      <td>Natalia Corres \"Natalia Corres\"</td>\n      <td>1</td>\n      <td>1</td>\n      <td>4</td>\n      <td>1219017600</td>\n      <td>\"Delight\" says it all</td>\n      <td>This is a confection that has been around a fe...</td>\n      <td>positive</td>\n    </tr>\n    <tr>\n      <th>3</th>\n      <td>4</td>\n      <td>B000UA0QIQ</td>\n      <td>A395BORC6FGVXV</td>\n      <td>Karl</td>\n      <td>3</td>\n      <td>3</td>\n      <td>2</td>\n      <td>1307923200</td>\n      <td>Cough Medicine</td>\n      <td>If you are looking for the secret ingredient i...</td>\n      <td>positive</td>\n    </tr>\n    <tr>\n      <th>4</th>\n      <td>5</td>\n      <td>B006K2ZZ7K</td>\n      <td>A1UQRSCLF8GW1T</td>\n      <td>Michael D. Bigham \"M. Wassir\"</td>\n      <td>0</td>\n      <td>0</td>\n      <td>5</td>\n      <td>1350777600</td>\n      <td>Great taffy</td>\n      <td>Great taffy at a great price.  There was a wid...</td>\n      <td>positive</td>\n    </tr>\n  </tbody>\n</table>\n</div>"
     },
     "execution_count": 188,
     "metadata": {},
     "output_type": "execute_result"
    }
   ],
   "source": [
    "df_rules['sentiment'] = df_rules['Text'].apply(get_sentiment)\n",
    "df_rules['sentiment'] = df_rules['sentiment'].apply(get_sentiment_label)\n",
    "df_rules.head()"
   ],
   "metadata": {
    "collapsed": false,
    "pycharm": {
     "name": "#%%\n"
    }
   }
  },
  {
   "cell_type": "code",
   "execution_count": 189,
   "outputs": [
    {
     "data": {
      "text/plain": "<Axes: >"
     },
     "execution_count": 189,
     "metadata": {},
     "output_type": "execute_result"
    },
    {
     "data": {
      "text/plain": "<Figure size 640x480 with 1 Axes>",
      "image/png": "[encoded data removed]"
     },
     "metadata": {},
     "output_type": "display_data"
    }
   ],
   "source": [
    "df_rules['sentiment'].hist()"
   ],
   "metadata": {
    "collapsed": false,
    "pycharm": {
     "name": "#%%\n"
    }
   }
  },
  {
   "cell_type": "code",
   "execution_count": 190,
   "outputs": [
    {
     "data": {
      "text/plain": "<Axes: >"
     },
     "execution_count": 190,
     "metadata": {},
     "output_type": "execute_result"
    },
    {
     "data": {
      "text/plain": "<Figure size 640x480 with 1 Axes>",
      "image/png": "[encoded data removed]"
     },
     "metadata": {},
     "output_type": "display_data"
    }
   ],
   "source": [
    "df_manual['sentiment'].hist()"
   ],
   "metadata": {
    "collapsed": false,
    "pycharm": {
     "name": "#%%\n"
    }
   }
  },
  {
   "cell_type": "code",
   "execution_count": 191,
   "outputs": [],
   "source": [
    "# Обьединение размеченных данных\n",
    "df_labeled = pd.concat([df_rules, df_manual])"
   ],
   "metadata": {
    "collapsed": false,
    "pycharm": {
     "name": "#%%\n"
    }
   }
  },
  {
   "cell_type": "code",
   "execution_count": 192,
   "outputs": [
    {
     "name": "stdout",
     "output_type": "stream",
     "text": [
      "<class 'pandas.core.frame.DataFrame'>\n",
      "Index: 10000 entries, 0 to 1999\n",
      "Data columns (total 11 columns):\n",
      " #   Column                  Non-Null Count  Dtype \n",
      "---  ------                  --------------  ----- \n",
      " 0   Id                      10000 non-null  int64 \n",
      " 1   ProductId               10000 non-null  object\n",
      " 2   UserId                  10000 non-null  object\n",
      " 3   ProfileName             10000 non-null  object\n",
      " 4   HelpfulnessNumerator    10000 non-null  int64 \n",
      " 5   HelpfulnessDenominator  10000 non-null  int64 \n",
      " 6   Score                   10000 non-null  int64 \n",
      " 7   Time                    10000 non-null  int64 \n",
      " 8   Summary                 10000 non-null  object\n",
      " 9   Text                    10000 non-null  object\n",
      " 10  sentiment               10000 non-null  object\n",
      "dtypes: int64(5), object(6)\n",
      "memory usage: 937.5+ KB\n"
     ]
    }
   ],
   "source": [
    "df_labeled.info()"
   ],
   "metadata": {
    "collapsed": false,
    "pycharm": {
     "name": "#%%\n"
    }
   }
  },
  {
   "cell_type": "code",
   "execution_count": 193,
   "outputs": [
    {
     "data": {
      "text/plain": "   Id   ProductId          UserId                      ProfileName  \\\n0   1  B001E4KFG0  A3SGXH7AUHU8GW                       delmartian   \n1   2  B00813GRG4  A1D87F6ZCVE5NK                           dll pa   \n2   3  B000LQOCH0   ABXLMWJIXXAIN  Natalia Corres \"Natalia Corres\"   \n3   4  B000UA0QIQ  A395BORC6FGVXV                             Karl   \n4   5  B006K2ZZ7K  A1UQRSCLF8GW1T    Michael D. Bigham \"M. Wassir\"   \n5   6  B006K2ZZ7K   ADT0SRK1MGOEU                   Twoapennything   \n6   7  B006K2ZZ7K  A1SP2KVKFXXRU1                David C. Sullivan   \n7   8  B006K2ZZ7K  A3JRGQVEQN31IQ               Pamela G. Williams   \n8   9  B000E7L2R4  A1MZYO9TZK0BBI                         R. James   \n9  10  B00171APVA  A21BT40VZCCYT4                    Carol A. Reed   \n\n   HelpfulnessNumerator  HelpfulnessDenominator  Score        Time  \\\n0                     1                       1      5  1303862400   \n1                     0                       0      1  1346976000   \n2                     1                       1      4  1219017600   \n3                     3                       3      2  1307923200   \n4                     0                       0      5  1350777600   \n5                     0                       0      4  1342051200   \n6                     0                       0      5  1340150400   \n7                     0                       0      5  1336003200   \n8                     1                       1      5  1322006400   \n9                     0                       0      5  1351209600   \n\n                                         Summary  \\\n0                          Good Quality Dog Food   \n1                              Not as Advertised   \n2                          \"Delight\" says it all   \n3                                 Cough Medicine   \n4                                    Great taffy   \n5                                     Nice Taffy   \n6  Great!  Just as good as the expensive brands!   \n7                         Wonderful, tasty taffy   \n8                                     Yay Barley   \n9                               Healthy Dog Food   \n\n                                                Text sentiment  \n0  I have bought several of the Vitality canned d...  positive  \n1  Product arrived labeled as Jumbo Salted Peanut...  negative  \n2  This is a confection that has been around a fe...  positive  \n3  If you are looking for the secret ingredient i...  positive  \n4  Great taffy at a great price.  There was a wid...  positive  \n5  I got a wild hair for taffy and ordered this f...  positive  \n6  This saltwater taffy had great flavors and was...  positive  \n7  This taffy is so good.  It is very soft and ch...  positive  \n8  Right now I'm mostly just sprouting this so my...  positive  \n9  This is a very healthy dog food. Good for thei...  positive  ",
      "text/html": "<div>\n<style scoped>\n    .dataframe tbody tr th:only-of-type {\n        vertical-align: middle;\n    }\n\n    .dataframe tbody tr th {\n        vertical-align: top;\n    }\n\n    .dataframe thead th {\n        text-align: right;\n    }\n</style>\n<table border=\"1\" class=\"dataframe\">\n  <thead>\n    <tr style=\"text-align: right;\">\n      <th></th>\n      <th>Id</th>\n      <th>ProductId</th>\n      <th>UserId</th>\n      <th>ProfileName</th>\n      <th>HelpfulnessNumerator</th>\n      <th>HelpfulnessDenominator</th>\n      <th>Score</th>\n      <th>Time</th>\n      <th>Summary</th>\n      <th>Text</th>\n      <th>sentiment</th>\n    </tr>\n  </thead>\n  <tbody>\n    <tr>\n      <th>0</th>\n      <td>1</td>\n      <td>B001E4KFG0</td>\n      <td>A3SGXH7AUHU8GW</td>\n      <td>delmartian</td>\n      <td>1</td>\n      <td>1</td>\n      <td>5</td>\n      <td>1303862400</td>\n      <td>Good Quality Dog Food</td>\n      <td>I have bought several of the Vitality canned d...</td>\n      <td>positive</td>\n    </tr>\n    <tr>\n      <th>1</th>\n      <td>2</td>\n      <td>B00813GRG4</td>\n      <td>A1D87F6ZCVE5NK</td>\n      <td>dll pa</td>\n      <td>0</td>\n      <td>0</td>\n      <td>1</td>\n      <td>1346976000</td>\n      <td>Not as Advertised</td>\n      <td>Product arrived labeled as Jumbo Salted Peanut...</td>\n      <td>negative</td>\n    </tr>\n    <tr>\n      <th>2</th>\n      <td>3</td>\n      <td>B000LQOCH0</td>\n      <td>ABXLMWJIXXAIN</td>\n      <td>Natalia Corres \"Natalia Corres\"</td>\n      <td>1</td>\n      <td>1</td>\n      <td>4</td>\n      <td>1219017600</td>\n      <td>\"Delight\" says it all</td>\n      <td>This is a confection that has been around a fe...</td>\n      <td>positive</td>\n    </tr>\n    <tr>\n      <th>3</th>\n      <td>4</td>\n      <td>B000UA0QIQ</td>\n      <td>A395BORC6FGVXV</td>\n      <td>Karl</td>\n      <td>3</td>\n      <td>3</td>\n      <td>2</td>\n      <td>1307923200</td>\n      <td>Cough Medicine</td>\n      <td>If you are looking for the secret ingredient i...</td>\n      <td>positive</td>\n    </tr>\n    <tr>\n      <th>4</th>\n      <td>5</td>\n      <td>B006K2ZZ7K</td>\n      <td>A1UQRSCLF8GW1T</td>\n      <td>Michael D. Bigham \"M. Wassir\"</td>\n      <td>0</td>\n      <td>0</td>\n      <td>5</td>\n      <td>1350777600</td>\n      <td>Great taffy</td>\n      <td>Great taffy at a great price.  There was a wid...</td>\n      <td>positive</td>\n    </tr>\n    <tr>\n      <th>5</th>\n      <td>6</td>\n      <td>B006K2ZZ7K</td>\n      <td>ADT0SRK1MGOEU</td>\n      <td>Twoapennything</td>\n      <td>0</td>\n      <td>0</td>\n      <td>4</td>\n      <td>1342051200</td>\n      <td>Nice Taffy</td>\n      <td>I got a wild hair for taffy and ordered this f...</td>\n      <td>positive</td>\n    </tr>\n    <tr>\n      <th>6</th>\n      <td>7</td>\n      <td>B006K2ZZ7K</td>\n      <td>A1SP2KVKFXXRU1</td>\n      <td>David C. Sullivan</td>\n      <td>0</td>\n      <td>0</td>\n      <td>5</td>\n      <td>1340150400</td>\n      <td>Great!  Just as good as the expensive brands!</td>\n      <td>This saltwater taffy had great flavors and was...</td>\n      <td>positive</td>\n    </tr>\n    <tr>\n      <th>7</th>\n      <td>8</td>\n      <td>B006K2ZZ7K</td>\n      <td>A3JRGQVEQN31IQ</td>\n      <td>Pamela G. Williams</td>\n      <td>0</td>\n      <td>0</td>\n      <td>5</td>\n      <td>1336003200</td>\n      <td>Wonderful, tasty taffy</td>\n      <td>This taffy is so good.  It is very soft and ch...</td>\n      <td>positive</td>\n    </tr>\n    <tr>\n      <th>8</th>\n      <td>9</td>\n      <td>B000E7L2R4</td>\n      <td>A1MZYO9TZK0BBI</td>\n      <td>R. James</td>\n      <td>1</td>\n      <td>1</td>\n      <td>5</td>\n      <td>1322006400</td>\n      <td>Yay Barley</td>\n      <td>Right now I'm mostly just sprouting this so my...</td>\n      <td>positive</td>\n    </tr>\n    <tr>\n      <th>9</th>\n      <td>10</td>\n      <td>B00171APVA</td>\n      <td>A21BT40VZCCYT4</td>\n      <td>Carol A. Reed</td>\n      <td>0</td>\n      <td>0</td>\n      <td>5</td>\n      <td>1351209600</td>\n      <td>Healthy Dog Food</td>\n      <td>This is a very healthy dog food. Good for thei...</td>\n      <td>positive</td>\n    </tr>\n  </tbody>\n</table>\n</div>"
     },
     "execution_count": 193,
     "metadata": {},
     "output_type": "execute_result"
    }
   ],
   "source": [
    "df_labeled.head(10)"
   ],
   "metadata": {
    "collapsed": false,
    "pycharm": {
     "name": "#%%\n"
    }
   }
  },
  {
   "cell_type": "code",
   "execution_count": 194,
   "outputs": [],
   "source": [
    "from sklearn.feature_extraction.text import TfidfVectorizer\n",
    "from sklearn.linear_model import LogisticRegression\n",
    "from sklearn.model_selection import train_test_split\n",
    "from sklearn.metrics import f1_score\n",
    "from sklearn.utils import shuffle\n",
    "from sklearn.metrics import accuracy_score"
   ],
   "metadata": {
    "collapsed": false,
    "pycharm": {
     "name": "#%%\n"
    }
   }
  },
  {
   "cell_type": "code",
   "execution_count": 195,
   "outputs": [
    {
     "data": {
      "text/plain": "<Axes: >"
     },
     "execution_count": 195,
     "metadata": {},
     "output_type": "execute_result"
    },
    {
     "data": {
      "text/plain": "<Figure size 640x480 with 1 Axes>",
      "image/png": "[encoded data removed]"
     },
     "metadata": {},
     "output_type": "display_data"
    }
   ],
   "source": [
    "# Замена 'negative' на -1, 'neutral' на 0 и 'positive' на 1\n",
    "df_labeled['sentiment'] = df_labeled['sentiment'].replace({'negative': -1, 'neutral': 0, 'positive': 1})\n",
    "df_labeled['sentiment'].hist()"
   ],
   "metadata": {
    "collapsed": false,
    "pycharm": {
     "name": "#%%\n"
    }
   }
  },
  {
   "cell_type": "code",
   "execution_count": 196,
   "outputs": [],
   "source": [
    "# Перемешивание данных\n",
    "df_labeled = shuffle(df_labeled)"
   ],
   "metadata": {
    "collapsed": false,
    "pycharm": {
     "name": "#%%\n"
    }
   }
  },
  {
   "cell_type": "code",
   "execution_count": 197,
   "outputs": [],
   "source": [
    "# Разделение данных на тренировочные и тестовые\n",
    "df_labeled_train = df_labeled[:9000]\n",
    "df_labeled_test = df_labeled[9000:]"
   ],
   "metadata": {
    "collapsed": false,
    "pycharm": {
     "name": "#%%\n"
    }
   }
  },
  {
   "cell_type": "code",
   "execution_count": 198,
   "outputs": [
    {
     "name": "stdout",
     "output_type": "stream",
     "text": [
      "<class 'pandas.core.frame.DataFrame'>\n",
      "Index: 9000 entries, 3079 to 7626\n",
      "Data columns (total 11 columns):\n",
      " #   Column                  Non-Null Count  Dtype \n",
      "---  ------                  --------------  ----- \n",
      " 0   Id                      9000 non-null   int64 \n",
      " 1   ProductId               9000 non-null   object\n",
      " 2   UserId                  9000 non-null   object\n",
      " 3   ProfileName             9000 non-null   object\n",
      " 4   HelpfulnessNumerator    9000 non-null   int64 \n",
      " 5   HelpfulnessDenominator  9000 non-null   int64 \n",
      " 6   Score                   9000 non-null   int64 \n",
      " 7   Time                    9000 non-null   int64 \n",
      " 8   Summary                 9000 non-null   object\n",
      " 9   Text                    9000 non-null   object\n",
      " 10  sentiment               9000 non-null   int64 \n",
      "dtypes: int64(6), object(5)\n",
      "memory usage: 843.8+ KB\n"
     ]
    }
   ],
   "source": [
    "df_labeled_train.info()"
   ],
   "metadata": {
    "collapsed": false,
    "pycharm": {
     "name": "#%%\n"
    }
   }
  },
  {
   "cell_type": "code",
   "execution_count": 199,
   "outputs": [
    {
     "name": "stdout",
     "output_type": "stream",
     "text": [
      "<class 'pandas.core.frame.DataFrame'>\n",
      "Index: 1000 entries, 2103 to 464\n",
      "Data columns (total 11 columns):\n",
      " #   Column                  Non-Null Count  Dtype \n",
      "---  ------                  --------------  ----- \n",
      " 0   Id                      1000 non-null   int64 \n",
      " 1   ProductId               1000 non-null   object\n",
      " 2   UserId                  1000 non-null   object\n",
      " 3   ProfileName             1000 non-null   object\n",
      " 4   HelpfulnessNumerator    1000 non-null   int64 \n",
      " 5   HelpfulnessDenominator  1000 non-null   int64 \n",
      " 6   Score                   1000 non-null   int64 \n",
      " 7   Time                    1000 non-null   int64 \n",
      " 8   Summary                 1000 non-null   object\n",
      " 9   Text                    1000 non-null   object\n",
      " 10  sentiment               1000 non-null   int64 \n",
      "dtypes: int64(6), object(5)\n",
      "memory usage: 93.8+ KB\n"
     ]
    }
   ],
   "source": [
    "df_labeled_test.info()"
   ],
   "metadata": {
    "collapsed": false,
    "pycharm": {
     "name": "#%%\n"
    }
   }
  },
  {
   "cell_type": "code",
   "execution_count": 200,
   "outputs": [],
   "source": [
    "# Разделение тренировочного датасета на размеченную и неразмеченную выборки\n",
    "labeled_reviews, unlabeled_reviews = train_test_split(df_labeled_train, train_size=0.6, random_state=55)"
   ],
   "metadata": {
    "collapsed": false,
    "pycharm": {
     "name": "#%%\n"
    }
   }
  },
  {
   "cell_type": "code",
   "execution_count": 201,
   "outputs": [
    {
     "data": {
      "text/plain": "          Id   ProductId          UserId                   ProfileName  \\\n5466    5467  B00622CYVI  A2E8MHOQ7580TM                     Jayashree   \n842      843  B000UWSQT0  A1LWILWU3AAFPG  Christine Giles \"shazzypupp\"   \n505   566960  B000YHLS8W  A1BG02VB5E9BFC                      sscheeps   \n3528    3529  B005TY2REE   AY12DBB0U420B                 Gary Peterson   \n1964  568419  B001F2GDJY   AFFKPAAZCQ5IK                       biscuit   \n\n      HelpfulnessNumerator  HelpfulnessDenominator  Score        Time  \\\n5466                     0                       0      5  1330473600   \n842                      0                       0      3  1262304000   \n505                      1                       1      4  1335830400   \n3528                     0                       0      4  1333756800   \n1964                     3                       3      5  1322438400   \n\n                                                Summary  \\\n5466                                     Yummy flavors!   \n842                                       not creamy...   \n505                                          Delicious!   \n3528  No cholesterol. No Sodium. Not Very Sweet. Goo...   \n1964                                             tuffer   \n\n                                                   Text  sentiment  \n5466  Our baby LOVES LOVES this food. We actually mi...          1  \n842   To my mind, a fine caramel should be creamy an...          1  \n505   Great taste and very moist.  Plenty of chocola...          1  \n3528  In my trip through the health area of my local...          1  \n1964  we just had a new lawn put in and it was very ...          1  ",
      "text/html": "<div>\n<style scoped>\n    .dataframe tbody tr th:only-of-type {\n        vertical-align: middle;\n    }\n\n    .dataframe tbody tr th {\n        vertical-align: top;\n    }\n\n    .dataframe thead th {\n        text-align: right;\n    }\n</style>\n<table border=\"1\" class=\"dataframe\">\n  <thead>\n    <tr style=\"text-align: right;\">\n      <th></th>\n      <th>Id</th>\n      <th>ProductId</th>\n      <th>UserId</th>\n      <th>ProfileName</th>\n      <th>HelpfulnessNumerator</th>\n      <th>HelpfulnessDenominator</th>\n      <th>Score</th>\n      <th>Time</th>\n      <th>Summary</th>\n      <th>Text</th>\n      <th>sentiment</th>\n    </tr>\n  </thead>\n  <tbody>\n    <tr>\n      <th>5466</th>\n      <td>5467</td>\n      <td>B00622CYVI</td>\n      <td>A2E8MHOQ7580TM</td>\n      <td>Jayashree</td>\n      <td>0</td>\n      <td>0</td>\n      <td>5</td>\n      <td>1330473600</td>\n      <td>Yummy flavors!</td>\n      <td>Our baby LOVES LOVES this food. We actually mi...</td>\n      <td>1</td>\n    </tr>\n    <tr>\n      <th>842</th>\n      <td>843</td>\n      <td>B000UWSQT0</td>\n      <td>A1LWILWU3AAFPG</td>\n      <td>Christine Giles \"shazzypupp\"</td>\n      <td>0</td>\n      <td>0</td>\n      <td>3</td>\n      <td>1262304000</td>\n      <td>not creamy...</td>\n      <td>To my mind, a fine caramel should be creamy an...</td>\n      <td>1</td>\n    </tr>\n    <tr>\n      <th>505</th>\n      <td>566960</td>\n      <td>B000YHLS8W</td>\n      <td>A1BG02VB5E9BFC</td>\n      <td>sscheeps</td>\n      <td>1</td>\n      <td>1</td>\n      <td>4</td>\n      <td>1335830400</td>\n      <td>Delicious!</td>\n      <td>Great taste and very moist.  Plenty of chocola...</td>\n      <td>1</td>\n    </tr>\n    <tr>\n      <th>3528</th>\n      <td>3529</td>\n      <td>B005TY2REE</td>\n      <td>AY12DBB0U420B</td>\n      <td>Gary Peterson</td>\n      <td>0</td>\n      <td>0</td>\n      <td>4</td>\n      <td>1333756800</td>\n      <td>No cholesterol. No Sodium. Not Very Sweet. Goo...</td>\n      <td>In my trip through the health area of my local...</td>\n      <td>1</td>\n    </tr>\n    <tr>\n      <th>1964</th>\n      <td>568419</td>\n      <td>B001F2GDJY</td>\n      <td>AFFKPAAZCQ5IK</td>\n      <td>biscuit</td>\n      <td>3</td>\n      <td>3</td>\n      <td>5</td>\n      <td>1322438400</td>\n      <td>tuffer</td>\n      <td>we just had a new lawn put in and it was very ...</td>\n      <td>1</td>\n    </tr>\n  </tbody>\n</table>\n</div>"
     },
     "execution_count": 201,
     "metadata": {},
     "output_type": "execute_result"
    }
   ],
   "source": [
    "labeled_reviews.head()"
   ],
   "metadata": {
    "collapsed": false,
    "pycharm": {
     "name": "#%%\n"
    }
   }
  },
  {
   "cell_type": "code",
   "execution_count": 202,
   "outputs": [
    {
     "data": {
      "text/plain": "          Id   ProductId          UserId                  ProfileName  \\\n982   567437  B000H2279I  A1CYE7C789X1CJ  FloatingMoonStudio \"Elaine\"   \n6945    6946  B001LG945O  A16YU3GRGCD95S  Theresa M. Studer \"Terra57\"   \n7976    7977  B004WM0ZTS   A6VU4RNEQJ7EQ                         BobK   \n2649    2650  B0016FY6H6  A2G4IIUA18TVCP                  Sifu \"Sifu\"   \n3684    3685  B000ER1DIM  A2RERXI7RH3CIA             Rebecca P. Baron   \n\n      HelpfulnessNumerator  HelpfulnessDenominator  Score        Time  \\\n982                      2                       2      5  1206057600   \n6945                     0                       0      4  1247443200   \n7976                     0                       0      4  1275436800   \n2649                     0                       0      3  1311292800   \n3684                     3                       3      5  1249344000   \n\n                                            Summary  \\\n982                                Simply the Best!   \n6945                             Really Not Too Bad   \n7976                                pricey but good   \n2649  Makes great drinks but you have to use a lot!   \n3684                                     A favorite   \n\n                                                   Text  sentiment  \n982   I LOVE Tilda rice! I am not a native of India,...          1  \n6945  I usually drink my soda room temperature but w...          1  \n7976  I bought this as an experiment to try on a cam...          1  \n2649  This tea has an awfully light flavor. I use th...         -1  \n3684  We have to hide these boxes and pull them out ...          0  ",
      "text/html": "<div>\n<style scoped>\n    .dataframe tbody tr th:only-of-type {\n        vertical-align: middle;\n    }\n\n    .dataframe tbody tr th {\n        vertical-align: top;\n    }\n\n    .dataframe thead th {\n        text-align: right;\n    }\n</style>\n<table border=\"1\" class=\"dataframe\">\n  <thead>\n    <tr style=\"text-align: right;\">\n      <th></th>\n      <th>Id</th>\n      <th>ProductId</th>\n      <th>UserId</th>\n      <th>ProfileName</th>\n      <th>HelpfulnessNumerator</th>\n      <th>HelpfulnessDenominator</th>\n      <th>Score</th>\n      <th>Time</th>\n      <th>Summary</th>\n      <th>Text</th>\n      <th>sentiment</th>\n    </tr>\n  </thead>\n  <tbody>\n    <tr>\n      <th>982</th>\n      <td>567437</td>\n      <td>B000H2279I</td>\n      <td>A1CYE7C789X1CJ</td>\n      <td>FloatingMoonStudio \"Elaine\"</td>\n      <td>2</td>\n      <td>2</td>\n      <td>5</td>\n      <td>1206057600</td>\n      <td>Simply the Best!</td>\n      <td>I LOVE Tilda rice! I am not a native of India,...</td>\n      <td>1</td>\n    </tr>\n    <tr>\n      <th>6945</th>\n      <td>6946</td>\n      <td>B001LG945O</td>\n      <td>A16YU3GRGCD95S</td>\n      <td>Theresa M. Studer \"Terra57\"</td>\n      <td>0</td>\n      <td>0</td>\n      <td>4</td>\n      <td>1247443200</td>\n      <td>Really Not Too Bad</td>\n      <td>I usually drink my soda room temperature but w...</td>\n      <td>1</td>\n    </tr>\n    <tr>\n      <th>7976</th>\n      <td>7977</td>\n      <td>B004WM0ZTS</td>\n      <td>A6VU4RNEQJ7EQ</td>\n      <td>BobK</td>\n      <td>0</td>\n      <td>0</td>\n      <td>4</td>\n      <td>1275436800</td>\n      <td>pricey but good</td>\n      <td>I bought this as an experiment to try on a cam...</td>\n      <td>1</td>\n    </tr>\n    <tr>\n      <th>2649</th>\n      <td>2650</td>\n      <td>B0016FY6H6</td>\n      <td>A2G4IIUA18TVCP</td>\n      <td>Sifu \"Sifu\"</td>\n      <td>0</td>\n      <td>0</td>\n      <td>3</td>\n      <td>1311292800</td>\n      <td>Makes great drinks but you have to use a lot!</td>\n      <td>This tea has an awfully light flavor. I use th...</td>\n      <td>-1</td>\n    </tr>\n    <tr>\n      <th>3684</th>\n      <td>3685</td>\n      <td>B000ER1DIM</td>\n      <td>A2RERXI7RH3CIA</td>\n      <td>Rebecca P. Baron</td>\n      <td>3</td>\n      <td>3</td>\n      <td>5</td>\n      <td>1249344000</td>\n      <td>A favorite</td>\n      <td>We have to hide these boxes and pull them out ...</td>\n      <td>0</td>\n    </tr>\n  </tbody>\n</table>\n</div>"
     },
     "execution_count": 202,
     "metadata": {},
     "output_type": "execute_result"
    }
   ],
   "source": [
    "unlabeled_reviews.head()"
   ],
   "metadata": {
    "collapsed": false,
    "pycharm": {
     "name": "#%%\n"
    }
   }
  },
  {
   "cell_type": "code",
   "execution_count": 203,
   "outputs": [],
   "source": [
    "# Определение функции для обучения модели логистической регрессии на размеченных данных\n",
    "def train_model(labeled_reviews):\n",
    "    # Векторизация текстовых данных с помощью TF-IDF\n",
    "    vectorizer = TfidfVectorizer()\n",
    "    X = vectorizer.fit_transform(labeled_reviews['Text'])\n",
    "    y = labeled_reviews['sentiment']\n",
    "\n",
    "    # Обучение модели логистической регрессии на размеченных данных\n",
    "    model = LogisticRegression()\n",
    "    model.fit(X, y)\n",
    "\n",
    "    return model, vectorizer"
   ],
   "metadata": {
    "collapsed": false,
    "pycharm": {
     "name": "#%%\n"
    }
   }
  },
  {
   "cell_type": "code",
   "execution_count": 204,
   "outputs": [],
   "source": [
    "# Обучение начальной модели на небольшом наборе\n",
    "model, vectorizer = train_model(labeled_reviews)"
   ],
   "metadata": {
    "collapsed": false,
    "pycharm": {
     "name": "#%%\n"
    }
   }
  },
  {
   "cell_type": "code",
   "execution_count": 205,
   "outputs": [],
   "source": [
    "# Использование обученной модели для прогнозирования настроения неразмеченных данных\n",
    "X_unlabeled = vectorizer.transform(unlabeled_reviews['Text'])\n",
    "y_unlabeled_predicted = model.predict(X_unlabeled)"
   ],
   "metadata": {
    "collapsed": false,
    "pycharm": {
     "name": "#%%\n"
    }
   }
  },
  {
   "cell_type": "code",
   "execution_count": 206,
   "outputs": [],
   "source": [
    "# Вычисление неопределенности или энтропии предсказаний\n",
    "y_unlabeled_proba = model.predict_proba(X_unlabeled)\n",
    "uncertainty = -(y_unlabeled_proba * np.log2(y_unlabeled_proba)).sum(axis=1)"
   ],
   "metadata": {
    "collapsed": false,
    "pycharm": {
     "name": "#%%\n"
    }
   }
  },
  {
   "cell_type": "code",
   "execution_count": 207,
   "outputs": [],
   "source": [
    "# Выбор 100 наиболее неопределенных точек данных для маркировки человеком\n",
    "labeled_reviews_new = unlabeled_reviews.iloc[uncertainty.argsort()[:100]]\n",
    "unlabeled_reviews_new = unlabeled_reviews.iloc[uncertainty.argsort()[100:]]"
   ],
   "metadata": {
    "collapsed": false,
    "pycharm": {
     "name": "#%%\n"
    }
   }
  },
  {
   "cell_type": "code",
   "execution_count": 208,
   "outputs": [],
   "source": [
    "# Разметка новых точек данных и добавление их к размеченному множеству\n",
    "labeled_reviews = pd.concat([labeled_reviews, labeled_reviews_new])"
   ],
   "metadata": {
    "collapsed": false,
    "pycharm": {
     "name": "#%%\n"
    }
   }
  },
  {
   "cell_type": "code",
   "execution_count": 209,
   "outputs": [],
   "source": [
    "# Переобучение модели на расширенном маркированном множестве\n",
    "model, vectorizer = train_model(labeled_reviews)"
   ],
   "metadata": {
    "collapsed": false,
    "pycharm": {
     "name": "#%%\n"
    }
   }
  },
  {
   "cell_type": "code",
   "execution_count": 210,
   "outputs": [
    {
     "name": "stdout",
     "output_type": "stream",
     "text": [
      "f1_score - 0.891, accuracy_score - 0.891\n"
     ]
    }
   ],
   "source": [
    "# Оценка модели на тестовом датасете\n",
    "X_test = vectorizer.transform(df_labeled_test['Text'])\n",
    "y_test_predicted = model.predict(X_test)\n",
    "f1 = f1_score(df_labeled_test['sentiment'], y_test_predicted, average='micro')\n",
    "a1 = accuracy_score(df_labeled_test['sentiment'], y_test_predicted)\n",
    "print(f'f1_score - {f1}, accuracy_score - {a1}')"
   ],
   "metadata": {
    "collapsed": false,
    "pycharm": {
     "name": "#%%\n"
    }
   }
  },
  {
   "cell_type": "markdown",
   "source": [
    "# Вывод: модель хорошо обучилась, показав высокую эффективность в разметке данных. Метрики f1_score - 0.891, accuracy_score - 0.891, показали высокие значения."
   ],
   "metadata": {
    "collapsed": false,
    "pycharm": {
     "name": "#%% md\n"
    }
   }
  },
  {
   "cell_type": "code",
   "execution_count": 210,
   "outputs": [],
   "source": [],
   "metadata": {
    "collapsed": false,
    "pycharm": {
     "name": "#%%\n"
    }
   }
  }
 ],
 "metadata": {
  "kernelspec": {
   "display_name": "Python 3",
   "language": "python",
   "name": "python3"
  },
  "language_info": {
   "codemirror_mode": {
    "name": "ipython",
    "version": 2
   },
   "file_extension": ".py",
   "mimetype": "text/x-python",
   "name": "python",
   "nbconvert_exporter": "python",
   "pygments_lexer": "ipython2",
   "version": "2.7.6"
  }
 },
 "nbformat": 4,
 "nbformat_minor": 0
}